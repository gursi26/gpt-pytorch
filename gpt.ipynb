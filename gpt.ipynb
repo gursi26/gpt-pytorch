{
 "cells": [
  {
   "cell_type": "code",
   "execution_count": null,
   "metadata": {},
   "outputs": [],
   "source": [
    "import torch\n",
    "from torch import nn, optim\n",
    "from tqdm import tqdm\n",
    "from torch.utils.data import DataLoader\n",
    "from dataset import QQPDataset, TokenizeCollate\n",
    "from utils import init_finetuning_model_and_tokenizer, inference"
   ]
  },
  {
   "cell_type": "code",
   "execution_count": null,
   "metadata": {},
   "outputs": [],
   "source": [
    "DEV = torch.device(\"mps\")\n",
    "BATCH_SIZE = 32\n",
    "LR = 6.25e-5\n",
    "EPOCHS = 5\n",
    "LAMBDA = 0.5\n",
    "\n",
    "WEIGHTS_PATH = \"weights.pth\"\n",
    "DATASET_PATH = \"dataset/train.csv\""
   ]
  },
  {
   "cell_type": "code",
   "execution_count": null,
   "metadata": {},
   "outputs": [],
   "source": [
    "tokenizer, model = init_finetuning_model_and_tokenizer(WEIGHTS_PATH, DEV)\n",
    "dataset = QQPDataset(DATASET_PATH)\n",
    "loader = DataLoader(dataset, batch_size=32, shuffle=True, collate_fn=TokenizeCollate(tokenizer))\n",
    "\n",
    "crit = nn.BCEWithLogitsLoss()\n",
    "opt = optim.Adam(model.parameters(), lr=LR)\n",
    "scheduler = optim.lr_scheduler.LinearLR(opt, start_factor=LAMBDA, end_factor=0.95, total_iters=2000)"
   ]
  },
  {
   "cell_type": "code",
   "execution_count": null,
   "metadata": {},
   "outputs": [],
   "source": [
    "for e in range(1, EPOCHS + 1):\n",
    "    loop = tqdm(enumerate(loader), total=len(loader), leave=True, position=0)\n",
    "    loop.set_description(f\"Epoch : [{e}/{EPOCHS}]\")\n",
    "    total_loss = 0\n",
    "    for i, (x1, x2, x1_mask, x2_mask, labels) in loop:\n",
    "        x1, x2, x1_mask, x2_mask, labels = x1.to(DEV), x2.to(DEV), x1_mask.to(DEV), x2_mask.to(DEV), labels.to(DEV)\n",
    "        opt.zero_grad()\n",
    "        yhat = model(x1, x2, x1_mask, x2_mask)\n",
    "        loss = crit(yhat, labels)\n",
    "        loss.backward()\n",
    "        opt.step()\n",
    "        scheduler.step()\n",
    "\n",
    "        total_loss += loss.item()\n",
    "        loop.set_postfix(loss = total_loss / (i + 1))"
   ]
  },
  {
   "cell_type": "code",
   "execution_count": null,
   "metadata": {},
   "outputs": [],
   "source": [
    "q1 = \"What fraction is a quarter?\"\n",
    "q2 = \"What is a balanced diet?\"\n",
    "\n",
    "inference(q1, q2, model.eval(), tokenizer, DEV)"
   ]
  }
 ],
 "metadata": {
  "kernelspec": {
   "display_name": "ml",
   "language": "python",
   "name": "python3"
  },
  "language_info": {
   "codemirror_mode": {
    "name": "ipython",
    "version": 3
   },
   "file_extension": ".py",
   "mimetype": "text/x-python",
   "name": "python",
   "nbconvert_exporter": "python",
   "pygments_lexer": "ipython3",
   "version": "3.9.13"
  },
  "orig_nbformat": 4
 },
 "nbformat": 4,
 "nbformat_minor": 2
}
